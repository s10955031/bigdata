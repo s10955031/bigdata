{
  "nbformat": 4,
  "nbformat_minor": 0,
  "metadata": {
    "colab": {
      "name": "0330-1.ipynb",
      "provenance": [],
      "collapsed_sections": [],
      "include_colab_link": true
    },
    "kernelspec": {
      "name": "ir",
      "display_name": "R"
    }
  },
  "cells": [
    {
      "cell_type": "markdown",
      "metadata": {
        "id": "view-in-github",
        "colab_type": "text"
      },
      "source": [
        "<a href=\"https://colab.research.google.com/github/s10955031/bigdata/blob/main/0330_1.ipynb\" target=\"_parent\"><img src=\"https://colab.research.google.com/assets/colab-badge.svg\" alt=\"Open In Colab\"/></a>"
      ]
    },
    {
      "cell_type": "code",
      "metadata": {
        "colab": {
          "base_uri": "https://localhost:8080/"
        },
        "id": "FtY7KJJFOGa3",
        "outputId": "bae44ff7-0ad4-4fd9-c76f-4990ec692ed6"
      },
      "source": [
        "install.packages(\"rJava\")\n",
        "install.packages(\"jiebaR\")\n",
        "install.packages(\"tmcn\")\n",
        "install.packages(\"dplyr\")\n",
        "install.packages(\"lubridate\")\n",
        "install.packages(\"stringr\")\n",
        "install.packages(\"wordcloud\")\n",
        "install.packages(\"Rwordseg\", repos = \"http;//R-project.org\")"
      ],
      "execution_count": 31,
      "outputs": [
        {
          "output_type": "stream",
          "text": [
            "Installing package into ‘/usr/local/lib/R/site-library’\n",
            "(as ‘lib’ is unspecified)\n",
            "\n",
            "Installing package into ‘/usr/local/lib/R/site-library’\n",
            "(as ‘lib’ is unspecified)\n",
            "\n",
            "Installing package into ‘/usr/local/lib/R/site-library’\n",
            "(as ‘lib’ is unspecified)\n",
            "\n",
            "Installing package into ‘/usr/local/lib/R/site-library’\n",
            "(as ‘lib’ is unspecified)\n",
            "\n",
            "Installing package into ‘/usr/local/lib/R/site-library’\n",
            "(as ‘lib’ is unspecified)\n",
            "\n",
            "Installing package into ‘/usr/local/lib/R/site-library’\n",
            "(as ‘lib’ is unspecified)\n",
            "\n",
            "Installing package into ‘/usr/local/lib/R/site-library’\n",
            "(as ‘lib’ is unspecified)\n",
            "\n",
            "Installing package into ‘/usr/local/lib/R/site-library’\n",
            "(as ‘lib’ is unspecified)\n",
            "\n",
            "Warning message:\n",
            "“unable to access index for repository http;//R-project.org/src/contrib:\n",
            "  cannot open URL 'http;//R-project.org/src/contrib/PACKAGES'”\n",
            "Warning message:\n",
            "“package ‘Rwordseg’ is not available for this version of R\n",
            "\n",
            "A version of this package for your version of R might be available elsewhere,\n",
            "see the ideas at\n",
            "https://cran.r-project.org/doc/manuals/r-patched/R-admin.html#Installing-packages”\n"
          ],
          "name": "stderr"
        }
      ]
    },
    {
      "cell_type": "code",
      "metadata": {
        "id": "VrwWu8LFN-wt"
      },
      "source": [
        "library(dplyr)\n",
        "library(lubridate)\n",
        "library(stringr)\n",
        "library(jiebaR)\n",
        "library(wordcloud)"
      ],
      "execution_count": 32,
      "outputs": []
    },
    {
      "cell_type": "code",
      "metadata": {
        "id": "aazbkei5OWUE"
      },
      "source": [
        "content <- \"嚴重特殊傳染性肺炎疫情持續在全球蔓延，已造成三千多萬⼈感染，死亡⼈數破百萬人，歐美醫療體系幾近崩潰，各種行動限制對於各國之經濟更有莫大之衝擊。\n",
        "然而台灣未實行大規模封鎖行動，維持正常上班上課與各種經濟活動，至今無⼤規模疫情爆發，醫療體系也仍能正常提供民眾服務，顯示台灣的防疫政策正確⽽有效，\n",
        "獲得世界各國⾼度肯定。國家衛⽣研究院群體健康科學研究所與感染症與疫苗研究所合作，利⽤真實數據與數學模型證實，良好的邊境管控，詳盡的疫情調查，\n",
        "確實的隔離與檢疫，以及民眾遵⾏防疫措施，為台灣抗疫四大支柱。台灣也對世界各國提供各項協助與經驗分享，期望幫助各國盡快從疫情的陰霾中走出。\"\n",
        "cutter <- worker(bylines = F)"
      ],
      "execution_count": 74,
      "outputs": []
    },
    {
      "cell_type": "code",
      "metadata": {
        "colab": {
          "base_uri": "https://localhost:8080/",
          "height": 153
        },
        "id": "R_ppFgYyOjV7",
        "outputId": "03d59ac5-43f6-4d0a-8216-d102e60471bc"
      },
      "source": [
        "cutter[content]"
      ],
      "execution_count": 75,
      "outputs": [
        {
          "output_type": "display_data",
          "data": {
            "text/plain": [
              "  [1] \"嚴重\"     \"特殊\"     \"傳染性\"   \"肺炎\"     \"疫情\"     \"持續\"    \n",
              "  [7] \"在\"       \"全球\"     \"蔓延\"     \"已\"       \"造成\"     \"三千多萬\"\n",
              " [13] \"⼈\"       \"感染\"     \"死亡\"     \"⼈\"       \"數\"       \"破\"      \n",
              " [19] \"百萬\"     \"人\"       \"歐美\"     \"醫療\"     \"體系\"     \"幾近\"    \n",
              " [25] \"崩潰\"     \"各種\"     \"行動\"     \"限制\"     \"對於\"     \"各國\"    \n",
              " [31] \"之\"       \"經濟\"     \"更\"       \"有\"       \"莫大\"     \"之\"      \n",
              " [37] \"衝擊\"     \"然而\"     \"台灣\"     \"未\"       \"實行\"     \"大規模\"  \n",
              " [43] \"封鎖\"     \"行動\"     \"維持\"     \"正常\"     \"上班\"     \"上課\"    \n",
              " [49] \"與\"       \"各種\"     \"經濟\"     \"活動\"     \"至今\"     \"無\"      \n",
              " [55] \"⼤\"       \"規模\"     \"疫情\"     \"爆發\"     \"醫療\"     \"體系\"    \n",
              " [61] \"也\"       \"仍\"       \"能\"       \"正常\"     \"提供\"     \"民眾\"    \n",
              " [67] \"服務\"     \"顯示\"     \"台灣\"     \"的\"       \"防疫\"     \"政策\"    \n",
              " [73] \"正確\"     \"⽽\"       \"有效\"     \"獲得\"     \"世界\"     \"各國\"    \n",
              " [79] \"⾼\"       \"度\"       \"肯定\"     \"國家\"     \"衛\"       \"⽣\"      \n",
              " [85] \"研究院\"   \"群體\"     \"健康\"     \"科學\"     \"研究所\"   \"與\"      \n",
              " [91] \"感染\"     \"症\"       \"與\"       \"疫苗\"     \"研究所\"   \"合作\"    \n",
              " [97] \"利\"       \"⽤\"       \"真實\"     \"數據\"     \"與\"       \"數學模型\"\n",
              "[103] \"證實\"     \"良好\"     \"的\"       \"邊境\"     \"管控\"     \"詳盡\"    \n",
              "[109] \"的\"       \"疫情\"     \"調查\"     \"確實\"     \"的\"       \"隔離\"    \n",
              "[115] \"與\"       \"檢疫\"     \"以及\"     \"民眾遵\"   \"⾏\"       \"防疫\"    \n",
              "[121] \"措施\"     \"為\"       \"台灣\"     \"抗疫\"     \"四大\"     \"支柱\"    \n",
              "[127] \"台灣\"     \"也\"       \"對\"       \"世界\"     \"各國\"     \"提供\"    \n",
              "[133] \"各項\"     \"協助\"     \"與\"       \"經驗\"     \"分享\"     \"期望\"    \n",
              "[139] \"幫助\"     \"各國\"     \"盡快\"     \"從\"       \"疫情\"     \"的\"      \n",
              "[145] \"陰霾\"     \"中\"       \"走出\"    "
            ],
            "text/latex": "\\begin{enumerate*}\n\\item '嚴重'\n\\item '特殊'\n\\item '傳染性'\n\\item '肺炎'\n\\item '疫情'\n\\item '持續'\n\\item '在'\n\\item '全球'\n\\item '蔓延'\n\\item '已'\n\\item '造成'\n\\item '三千多萬'\n\\item '⼈'\n\\item '感染'\n\\item '死亡'\n\\item '⼈'\n\\item '數'\n\\item '破'\n\\item '百萬'\n\\item '人'\n\\item '歐美'\n\\item '醫療'\n\\item '體系'\n\\item '幾近'\n\\item '崩潰'\n\\item '各種'\n\\item '行動'\n\\item '限制'\n\\item '對於'\n\\item '各國'\n\\item '之'\n\\item '經濟'\n\\item '更'\n\\item '有'\n\\item '莫大'\n\\item '之'\n\\item '衝擊'\n\\item '然而'\n\\item '台灣'\n\\item '未'\n\\item '實行'\n\\item '大規模'\n\\item '封鎖'\n\\item '行動'\n\\item '維持'\n\\item '正常'\n\\item '上班'\n\\item '上課'\n\\item '與'\n\\item '各種'\n\\item '經濟'\n\\item '活動'\n\\item '至今'\n\\item '無'\n\\item '⼤'\n\\item '規模'\n\\item '疫情'\n\\item '爆發'\n\\item '醫療'\n\\item '體系'\n\\item '也'\n\\item '仍'\n\\item '能'\n\\item '正常'\n\\item '提供'\n\\item '民眾'\n\\item '服務'\n\\item '顯示'\n\\item '台灣'\n\\item '的'\n\\item '防疫'\n\\item '政策'\n\\item '正確'\n\\item '⽽'\n\\item '有效'\n\\item '獲得'\n\\item '世界'\n\\item '各國'\n\\item '⾼'\n\\item '度'\n\\item '肯定'\n\\item '國家'\n\\item '衛'\n\\item '⽣'\n\\item '研究院'\n\\item '群體'\n\\item '健康'\n\\item '科學'\n\\item '研究所'\n\\item '與'\n\\item '感染'\n\\item '症'\n\\item '與'\n\\item '疫苗'\n\\item '研究所'\n\\item '合作'\n\\item '利'\n\\item '⽤'\n\\item '真實'\n\\item '數據'\n\\item '與'\n\\item '數學模型'\n\\item '證實'\n\\item '良好'\n\\item '的'\n\\item '邊境'\n\\item '管控'\n\\item '詳盡'\n\\item '的'\n\\item '疫情'\n\\item '調查'\n\\item '確實'\n\\item '的'\n\\item '隔離'\n\\item '與'\n\\item '檢疫'\n\\item '以及'\n\\item '民眾遵'\n\\item '⾏'\n\\item '防疫'\n\\item '措施'\n\\item '為'\n\\item '台灣'\n\\item '抗疫'\n\\item '四大'\n\\item '支柱'\n\\item '台灣'\n\\item '也'\n\\item '對'\n\\item '世界'\n\\item '各國'\n\\item '提供'\n\\item '各項'\n\\item '協助'\n\\item '與'\n\\item '經驗'\n\\item '分享'\n\\item '期望'\n\\item '幫助'\n\\item '各國'\n\\item '盡快'\n\\item '從'\n\\item '疫情'\n\\item '的'\n\\item '陰霾'\n\\item '中'\n\\item '走出'\n\\end{enumerate*}\n",
            "text/markdown": "1. '嚴重'\n2. '特殊'\n3. '傳染性'\n4. '肺炎'\n5. '疫情'\n6. '持續'\n7. '在'\n8. '全球'\n9. '蔓延'\n10. '已'\n11. '造成'\n12. '三千多萬'\n13. '⼈'\n14. '感染'\n15. '死亡'\n16. '⼈'\n17. '數'\n18. '破'\n19. '百萬'\n20. '人'\n21. '歐美'\n22. '醫療'\n23. '體系'\n24. '幾近'\n25. '崩潰'\n26. '各種'\n27. '行動'\n28. '限制'\n29. '對於'\n30. '各國'\n31. '之'\n32. '經濟'\n33. '更'\n34. '有'\n35. '莫大'\n36. '之'\n37. '衝擊'\n38. '然而'\n39. '台灣'\n40. '未'\n41. '實行'\n42. '大規模'\n43. '封鎖'\n44. '行動'\n45. '維持'\n46. '正常'\n47. '上班'\n48. '上課'\n49. '與'\n50. '各種'\n51. '經濟'\n52. '活動'\n53. '至今'\n54. '無'\n55. '⼤'\n56. '規模'\n57. '疫情'\n58. '爆發'\n59. '醫療'\n60. '體系'\n61. '也'\n62. '仍'\n63. '能'\n64. '正常'\n65. '提供'\n66. '民眾'\n67. '服務'\n68. '顯示'\n69. '台灣'\n70. '的'\n71. '防疫'\n72. '政策'\n73. '正確'\n74. '⽽'\n75. '有效'\n76. '獲得'\n77. '世界'\n78. '各國'\n79. '⾼'\n80. '度'\n81. '肯定'\n82. '國家'\n83. '衛'\n84. '⽣'\n85. '研究院'\n86. '群體'\n87. '健康'\n88. '科學'\n89. '研究所'\n90. '與'\n91. '感染'\n92. '症'\n93. '與'\n94. '疫苗'\n95. '研究所'\n96. '合作'\n97. '利'\n98. '⽤'\n99. '真實'\n100. '數據'\n101. '與'\n102. '數學模型'\n103. '證實'\n104. '良好'\n105. '的'\n106. '邊境'\n107. '管控'\n108. '詳盡'\n109. '的'\n110. '疫情'\n111. '調查'\n112. '確實'\n113. '的'\n114. '隔離'\n115. '與'\n116. '檢疫'\n117. '以及'\n118. '民眾遵'\n119. '⾏'\n120. '防疫'\n121. '措施'\n122. '為'\n123. '台灣'\n124. '抗疫'\n125. '四大'\n126. '支柱'\n127. '台灣'\n128. '也'\n129. '對'\n130. '世界'\n131. '各國'\n132. '提供'\n133. '各項'\n134. '協助'\n135. '與'\n136. '經驗'\n137. '分享'\n138. '期望'\n139. '幫助'\n140. '各國'\n141. '盡快'\n142. '從'\n143. '疫情'\n144. '的'\n145. '陰霾'\n146. '中'\n147. '走出'\n\n\n",
            "text/html": [
              "<style>\n",
              ".list-inline {list-style: none; margin:0; padding: 0}\n",
              ".list-inline>li {display: inline-block}\n",
              ".list-inline>li:not(:last-child)::after {content: \"\\00b7\"; padding: 0 .5ex}\n",
              "</style>\n",
              "<ol class=list-inline><li>'嚴重'</li><li>'特殊'</li><li>'傳染性'</li><li>'肺炎'</li><li>'疫情'</li><li>'持續'</li><li>'在'</li><li>'全球'</li><li>'蔓延'</li><li>'已'</li><li>'造成'</li><li>'三千多萬'</li><li>'⼈'</li><li>'感染'</li><li>'死亡'</li><li>'⼈'</li><li>'數'</li><li>'破'</li><li>'百萬'</li><li>'人'</li><li>'歐美'</li><li>'醫療'</li><li>'體系'</li><li>'幾近'</li><li>'崩潰'</li><li>'各種'</li><li>'行動'</li><li>'限制'</li><li>'對於'</li><li>'各國'</li><li>'之'</li><li>'經濟'</li><li>'更'</li><li>'有'</li><li>'莫大'</li><li>'之'</li><li>'衝擊'</li><li>'然而'</li><li>'台灣'</li><li>'未'</li><li>'實行'</li><li>'大規模'</li><li>'封鎖'</li><li>'行動'</li><li>'維持'</li><li>'正常'</li><li>'上班'</li><li>'上課'</li><li>'與'</li><li>'各種'</li><li>'經濟'</li><li>'活動'</li><li>'至今'</li><li>'無'</li><li>'⼤'</li><li>'規模'</li><li>'疫情'</li><li>'爆發'</li><li>'醫療'</li><li>'體系'</li><li>'也'</li><li>'仍'</li><li>'能'</li><li>'正常'</li><li>'提供'</li><li>'民眾'</li><li>'服務'</li><li>'顯示'</li><li>'台灣'</li><li>'的'</li><li>'防疫'</li><li>'政策'</li><li>'正確'</li><li>'⽽'</li><li>'有效'</li><li>'獲得'</li><li>'世界'</li><li>'各國'</li><li>'⾼'</li><li>'度'</li><li>'肯定'</li><li>'國家'</li><li>'衛'</li><li>'⽣'</li><li>'研究院'</li><li>'群體'</li><li>'健康'</li><li>'科學'</li><li>'研究所'</li><li>'與'</li><li>'感染'</li><li>'症'</li><li>'與'</li><li>'疫苗'</li><li>'研究所'</li><li>'合作'</li><li>'利'</li><li>'⽤'</li><li>'真實'</li><li>'數據'</li><li>'與'</li><li>'數學模型'</li><li>'證實'</li><li>'良好'</li><li>'的'</li><li>'邊境'</li><li>'管控'</li><li>'詳盡'</li><li>'的'</li><li>'疫情'</li><li>'調查'</li><li>'確實'</li><li>'的'</li><li>'隔離'</li><li>'與'</li><li>'檢疫'</li><li>'以及'</li><li>'民眾遵'</li><li>'⾏'</li><li>'防疫'</li><li>'措施'</li><li>'為'</li><li>'台灣'</li><li>'抗疫'</li><li>'四大'</li><li>'支柱'</li><li>'台灣'</li><li>'也'</li><li>'對'</li><li>'世界'</li><li>'各國'</li><li>'提供'</li><li>'各項'</li><li>'協助'</li><li>'與'</li><li>'經驗'</li><li>'分享'</li><li>'期望'</li><li>'幫助'</li><li>'各國'</li><li>'盡快'</li><li>'從'</li><li>'疫情'</li><li>'的'</li><li>'陰霾'</li><li>'中'</li><li>'走出'</li></ol>\n"
            ]
          },
          "metadata": {
            "tags": []
          }
        }
      ]
    },
    {
      "cell_type": "code",
      "metadata": {
        "colab": {
          "base_uri": "https://localhost:8080/",
          "height": 153
        },
        "id": "vkLTos_cPoGj",
        "outputId": "86a8bf64-fd17-40c3-c77c-172759e373c7"
      },
      "source": [
        "new_words <- c(\"傳染性肺炎\",\"醫療體系\",\"防疫措施\")\n",
        "for(i in 1:length(new_words)){\n",
        "  new_user_word(cutter, new_words[i])\n",
        "}\n",
        "\n",
        "content <- str_remove_all(content, \"[0-9a-zA-Z]+?\")\n",
        "cutter[content]"
      ],
      "execution_count": 76,
      "outputs": [
        {
          "output_type": "display_data",
          "data": {
            "text/plain": [
              "  [1] \"嚴重\"       \"特殊\"       \"傳染性肺炎\" \"疫情\"       \"持續\"      \n",
              "  [6] \"在\"         \"全球\"       \"蔓延\"       \"已\"         \"造成\"      \n",
              " [11] \"三千多萬\"   \"⼈\"         \"感染\"       \"死亡\"       \"⼈\"        \n",
              " [16] \"數\"         \"破\"         \"百萬\"       \"人\"         \"歐美\"      \n",
              " [21] \"醫療體系\"   \"幾近\"       \"崩潰\"       \"各種\"       \"行動\"      \n",
              " [26] \"限制\"       \"對於\"       \"各國\"       \"之\"         \"經濟\"      \n",
              " [31] \"更\"         \"有\"         \"莫大\"       \"之\"         \"衝擊\"      \n",
              " [36] \"然而\"       \"台灣\"       \"未\"         \"實行\"       \"大規模\"    \n",
              " [41] \"封鎖\"       \"行動\"       \"維持\"       \"正常\"       \"上班\"      \n",
              " [46] \"上課\"       \"與\"         \"各種\"       \"經濟\"       \"活動\"      \n",
              " [51] \"至今\"       \"無\"         \"⼤\"         \"規模\"       \"疫情\"      \n",
              " [56] \"爆發\"       \"醫療體系\"   \"也\"         \"仍\"         \"能\"        \n",
              " [61] \"正常\"       \"提供\"       \"民眾\"       \"服務\"       \"顯示\"      \n",
              " [66] \"台灣\"       \"的\"         \"防疫\"       \"政策\"       \"正確\"      \n",
              " [71] \"⽽\"         \"有效\"       \"獲得\"       \"世界\"       \"各國\"      \n",
              " [76] \"⾼\"         \"度\"         \"肯定\"       \"國家\"       \"衛\"        \n",
              " [81] \"⽣\"         \"研究院\"     \"群體\"       \"健康\"       \"科學\"      \n",
              " [86] \"研究所\"     \"與\"         \"感染\"       \"症\"         \"與\"        \n",
              " [91] \"疫苗\"       \"研究所\"     \"合作\"       \"利\"         \"⽤\"        \n",
              " [96] \"真實\"       \"數據\"       \"與\"         \"數學模型\"   \"證實\"      \n",
              "[101] \"良好\"       \"的\"         \"邊境\"       \"管控\"       \"詳盡\"      \n",
              "[106] \"的\"         \"疫情\"       \"調查\"       \"確實\"       \"的\"        \n",
              "[111] \"隔離\"       \"與\"         \"檢疫\"       \"以及\"       \"民眾遵\"    \n",
              "[116] \"⾏\"         \"防疫措施\"   \"為\"         \"台灣\"       \"抗疫\"      \n",
              "[121] \"四大\"       \"支柱\"       \"台灣\"       \"也\"         \"對\"        \n",
              "[126] \"世界\"       \"各國\"       \"提供\"       \"各項\"       \"協助\"      \n",
              "[131] \"與\"         \"經驗\"       \"分享\"       \"期望\"       \"幫助\"      \n",
              "[136] \"各國\"       \"盡快\"       \"從\"         \"疫情\"       \"的\"        \n",
              "[141] \"陰霾\"       \"中\"         \"走出\"      "
            ],
            "text/latex": "\\begin{enumerate*}\n\\item '嚴重'\n\\item '特殊'\n\\item '傳染性肺炎'\n\\item '疫情'\n\\item '持續'\n\\item '在'\n\\item '全球'\n\\item '蔓延'\n\\item '已'\n\\item '造成'\n\\item '三千多萬'\n\\item '⼈'\n\\item '感染'\n\\item '死亡'\n\\item '⼈'\n\\item '數'\n\\item '破'\n\\item '百萬'\n\\item '人'\n\\item '歐美'\n\\item '醫療體系'\n\\item '幾近'\n\\item '崩潰'\n\\item '各種'\n\\item '行動'\n\\item '限制'\n\\item '對於'\n\\item '各國'\n\\item '之'\n\\item '經濟'\n\\item '更'\n\\item '有'\n\\item '莫大'\n\\item '之'\n\\item '衝擊'\n\\item '然而'\n\\item '台灣'\n\\item '未'\n\\item '實行'\n\\item '大規模'\n\\item '封鎖'\n\\item '行動'\n\\item '維持'\n\\item '正常'\n\\item '上班'\n\\item '上課'\n\\item '與'\n\\item '各種'\n\\item '經濟'\n\\item '活動'\n\\item '至今'\n\\item '無'\n\\item '⼤'\n\\item '規模'\n\\item '疫情'\n\\item '爆發'\n\\item '醫療體系'\n\\item '也'\n\\item '仍'\n\\item '能'\n\\item '正常'\n\\item '提供'\n\\item '民眾'\n\\item '服務'\n\\item '顯示'\n\\item '台灣'\n\\item '的'\n\\item '防疫'\n\\item '政策'\n\\item '正確'\n\\item '⽽'\n\\item '有效'\n\\item '獲得'\n\\item '世界'\n\\item '各國'\n\\item '⾼'\n\\item '度'\n\\item '肯定'\n\\item '國家'\n\\item '衛'\n\\item '⽣'\n\\item '研究院'\n\\item '群體'\n\\item '健康'\n\\item '科學'\n\\item '研究所'\n\\item '與'\n\\item '感染'\n\\item '症'\n\\item '與'\n\\item '疫苗'\n\\item '研究所'\n\\item '合作'\n\\item '利'\n\\item '⽤'\n\\item '真實'\n\\item '數據'\n\\item '與'\n\\item '數學模型'\n\\item '證實'\n\\item '良好'\n\\item '的'\n\\item '邊境'\n\\item '管控'\n\\item '詳盡'\n\\item '的'\n\\item '疫情'\n\\item '調查'\n\\item '確實'\n\\item '的'\n\\item '隔離'\n\\item '與'\n\\item '檢疫'\n\\item '以及'\n\\item '民眾遵'\n\\item '⾏'\n\\item '防疫措施'\n\\item '為'\n\\item '台灣'\n\\item '抗疫'\n\\item '四大'\n\\item '支柱'\n\\item '台灣'\n\\item '也'\n\\item '對'\n\\item '世界'\n\\item '各國'\n\\item '提供'\n\\item '各項'\n\\item '協助'\n\\item '與'\n\\item '經驗'\n\\item '分享'\n\\item '期望'\n\\item '幫助'\n\\item '各國'\n\\item '盡快'\n\\item '從'\n\\item '疫情'\n\\item '的'\n\\item '陰霾'\n\\item '中'\n\\item '走出'\n\\end{enumerate*}\n",
            "text/markdown": "1. '嚴重'\n2. '特殊'\n3. '傳染性肺炎'\n4. '疫情'\n5. '持續'\n6. '在'\n7. '全球'\n8. '蔓延'\n9. '已'\n10. '造成'\n11. '三千多萬'\n12. '⼈'\n13. '感染'\n14. '死亡'\n15. '⼈'\n16. '數'\n17. '破'\n18. '百萬'\n19. '人'\n20. '歐美'\n21. '醫療體系'\n22. '幾近'\n23. '崩潰'\n24. '各種'\n25. '行動'\n26. '限制'\n27. '對於'\n28. '各國'\n29. '之'\n30. '經濟'\n31. '更'\n32. '有'\n33. '莫大'\n34. '之'\n35. '衝擊'\n36. '然而'\n37. '台灣'\n38. '未'\n39. '實行'\n40. '大規模'\n41. '封鎖'\n42. '行動'\n43. '維持'\n44. '正常'\n45. '上班'\n46. '上課'\n47. '與'\n48. '各種'\n49. '經濟'\n50. '活動'\n51. '至今'\n52. '無'\n53. '⼤'\n54. '規模'\n55. '疫情'\n56. '爆發'\n57. '醫療體系'\n58. '也'\n59. '仍'\n60. '能'\n61. '正常'\n62. '提供'\n63. '民眾'\n64. '服務'\n65. '顯示'\n66. '台灣'\n67. '的'\n68. '防疫'\n69. '政策'\n70. '正確'\n71. '⽽'\n72. '有效'\n73. '獲得'\n74. '世界'\n75. '各國'\n76. '⾼'\n77. '度'\n78. '肯定'\n79. '國家'\n80. '衛'\n81. '⽣'\n82. '研究院'\n83. '群體'\n84. '健康'\n85. '科學'\n86. '研究所'\n87. '與'\n88. '感染'\n89. '症'\n90. '與'\n91. '疫苗'\n92. '研究所'\n93. '合作'\n94. '利'\n95. '⽤'\n96. '真實'\n97. '數據'\n98. '與'\n99. '數學模型'\n100. '證實'\n101. '良好'\n102. '的'\n103. '邊境'\n104. '管控'\n105. '詳盡'\n106. '的'\n107. '疫情'\n108. '調查'\n109. '確實'\n110. '的'\n111. '隔離'\n112. '與'\n113. '檢疫'\n114. '以及'\n115. '民眾遵'\n116. '⾏'\n117. '防疫措施'\n118. '為'\n119. '台灣'\n120. '抗疫'\n121. '四大'\n122. '支柱'\n123. '台灣'\n124. '也'\n125. '對'\n126. '世界'\n127. '各國'\n128. '提供'\n129. '各項'\n130. '協助'\n131. '與'\n132. '經驗'\n133. '分享'\n134. '期望'\n135. '幫助'\n136. '各國'\n137. '盡快'\n138. '從'\n139. '疫情'\n140. '的'\n141. '陰霾'\n142. '中'\n143. '走出'\n\n\n",
            "text/html": [
              "<style>\n",
              ".list-inline {list-style: none; margin:0; padding: 0}\n",
              ".list-inline>li {display: inline-block}\n",
              ".list-inline>li:not(:last-child)::after {content: \"\\00b7\"; padding: 0 .5ex}\n",
              "</style>\n",
              "<ol class=list-inline><li>'嚴重'</li><li>'特殊'</li><li>'傳染性肺炎'</li><li>'疫情'</li><li>'持續'</li><li>'在'</li><li>'全球'</li><li>'蔓延'</li><li>'已'</li><li>'造成'</li><li>'三千多萬'</li><li>'⼈'</li><li>'感染'</li><li>'死亡'</li><li>'⼈'</li><li>'數'</li><li>'破'</li><li>'百萬'</li><li>'人'</li><li>'歐美'</li><li>'醫療體系'</li><li>'幾近'</li><li>'崩潰'</li><li>'各種'</li><li>'行動'</li><li>'限制'</li><li>'對於'</li><li>'各國'</li><li>'之'</li><li>'經濟'</li><li>'更'</li><li>'有'</li><li>'莫大'</li><li>'之'</li><li>'衝擊'</li><li>'然而'</li><li>'台灣'</li><li>'未'</li><li>'實行'</li><li>'大規模'</li><li>'封鎖'</li><li>'行動'</li><li>'維持'</li><li>'正常'</li><li>'上班'</li><li>'上課'</li><li>'與'</li><li>'各種'</li><li>'經濟'</li><li>'活動'</li><li>'至今'</li><li>'無'</li><li>'⼤'</li><li>'規模'</li><li>'疫情'</li><li>'爆發'</li><li>'醫療體系'</li><li>'也'</li><li>'仍'</li><li>'能'</li><li>'正常'</li><li>'提供'</li><li>'民眾'</li><li>'服務'</li><li>'顯示'</li><li>'台灣'</li><li>'的'</li><li>'防疫'</li><li>'政策'</li><li>'正確'</li><li>'⽽'</li><li>'有效'</li><li>'獲得'</li><li>'世界'</li><li>'各國'</li><li>'⾼'</li><li>'度'</li><li>'肯定'</li><li>'國家'</li><li>'衛'</li><li>'⽣'</li><li>'研究院'</li><li>'群體'</li><li>'健康'</li><li>'科學'</li><li>'研究所'</li><li>'與'</li><li>'感染'</li><li>'症'</li><li>'與'</li><li>'疫苗'</li><li>'研究所'</li><li>'合作'</li><li>'利'</li><li>'⽤'</li><li>'真實'</li><li>'數據'</li><li>'與'</li><li>'數學模型'</li><li>'證實'</li><li>'良好'</li><li>'的'</li><li>'邊境'</li><li>'管控'</li><li>'詳盡'</li><li>'的'</li><li>'疫情'</li><li>'調查'</li><li>'確實'</li><li>'的'</li><li>'隔離'</li><li>'與'</li><li>'檢疫'</li><li>'以及'</li><li>'民眾遵'</li><li>'⾏'</li><li>'防疫措施'</li><li>'為'</li><li>'台灣'</li><li>'抗疫'</li><li>'四大'</li><li>'支柱'</li><li>'台灣'</li><li>'也'</li><li>'對'</li><li>'世界'</li><li>'各國'</li><li>'提供'</li><li>'各項'</li><li>'協助'</li><li>'與'</li><li>'經驗'</li><li>'分享'</li><li>'期望'</li><li>'幫助'</li><li>'各國'</li><li>'盡快'</li><li>'從'</li><li>'疫情'</li><li>'的'</li><li>'陰霾'</li><li>'中'</li><li>'走出'</li></ol>\n"
            ]
          },
          "metadata": {
            "tags": []
          }
        }
      ]
    },
    {
      "cell_type": "code",
      "metadata": {
        "colab": {
          "base_uri": "https://localhost:8080/",
          "height": 136
        },
        "id": "_LUtYFo5QslN",
        "outputId": "6337a63a-0d10-4e43-cea6-d2d1d69591f2"
      },
      "source": [
        "new_words <- c(\"傳染性肺炎\",\"醫療體系\",\"防疫措施\")\n",
        "writeLines(new_words, \"new_words.txt\")\n",
        "\n",
        "stop_words <- c(\"在\",\"之\",\"更\",\"個\",\"未\",\"而\",\"也\",\"與\",\"的\")\n",
        "writeLines(stop_words, \"stop_words.txt\")\n",
        "\n",
        "cutter <- worker(user = \"new_words.txt\", stop_word = \"stop_words.txt\",\n",
        "bylines = FALSE)\n",
        "seg_words <- cutter[content]\n",
        "seg_words"
      ],
      "execution_count": 77,
      "outputs": [
        {
          "output_type": "display_data",
          "data": {
            "text/plain": [
              "  [1] \"嚴重\"       \"特殊\"       \"傳染性肺炎\" \"疫情\"       \"持續\"      \n",
              "  [6] \"全球\"       \"蔓延\"       \"已\"         \"造成\"       \"三千多萬\"  \n",
              " [11] \"⼈\"         \"感染\"       \"死亡\"       \"⼈\"         \"數\"        \n",
              " [16] \"破\"         \"百萬\"       \"人\"         \"歐美\"       \"醫療體系\"  \n",
              " [21] \"幾近\"       \"崩潰\"       \"各種\"       \"行動\"       \"限制\"      \n",
              " [26] \"對於\"       \"各國\"       \"經濟\"       \"有\"         \"莫大\"      \n",
              " [31] \"衝擊\"       \"然而\"       \"台灣\"       \"實行\"       \"大規模\"    \n",
              " [36] \"封鎖\"       \"行動\"       \"維持\"       \"正常\"       \"上班\"      \n",
              " [41] \"上課\"       \"各種\"       \"經濟\"       \"活動\"       \"至今\"      \n",
              " [46] \"無\"         \"⼤\"         \"規模\"       \"疫情\"       \"爆發\"      \n",
              " [51] \"醫療體系\"   \"仍\"         \"能\"         \"正常\"       \"提供\"      \n",
              " [56] \"民眾\"       \"服務\"       \"顯示\"       \"台灣\"       \"防疫\"      \n",
              " [61] \"政策\"       \"正確\"       \"⽽\"         \"有效\"       \"獲得\"      \n",
              " [66] \"世界\"       \"各國\"       \"⾼\"         \"度\"         \"肯定\"      \n",
              " [71] \"國家\"       \"衛\"         \"⽣\"         \"研究院\"     \"群體\"      \n",
              " [76] \"健康\"       \"科學\"       \"研究所\"     \"感染\"       \"症\"        \n",
              " [81] \"疫苗\"       \"研究所\"     \"合作\"       \"利\"         \"⽤\"        \n",
              " [86] \"真實\"       \"數據\"       \"數學模型\"   \"證實\"       \"良好\"      \n",
              " [91] \"邊境\"       \"管控\"       \"詳盡\"       \"疫情\"       \"調查\"      \n",
              " [96] \"確實\"       \"隔離\"       \"檢疫\"       \"以及\"       \"民眾遵\"    \n",
              "[101] \"⾏\"         \"防疫措施\"   \"為\"         \"台灣\"       \"抗疫\"      \n",
              "[106] \"四大\"       \"支柱\"       \"台灣\"       \"對\"         \"世界\"      \n",
              "[111] \"各國\"       \"提供\"       \"各項\"       \"協助\"       \"經驗\"      \n",
              "[116] \"分享\"       \"期望\"       \"幫助\"       \"各國\"       \"盡快\"      \n",
              "[121] \"從\"         \"疫情\"       \"陰霾\"       \"中\"         \"走出\"      "
            ],
            "text/latex": "\\begin{enumerate*}\n\\item '嚴重'\n\\item '特殊'\n\\item '傳染性肺炎'\n\\item '疫情'\n\\item '持續'\n\\item '全球'\n\\item '蔓延'\n\\item '已'\n\\item '造成'\n\\item '三千多萬'\n\\item '⼈'\n\\item '感染'\n\\item '死亡'\n\\item '⼈'\n\\item '數'\n\\item '破'\n\\item '百萬'\n\\item '人'\n\\item '歐美'\n\\item '醫療體系'\n\\item '幾近'\n\\item '崩潰'\n\\item '各種'\n\\item '行動'\n\\item '限制'\n\\item '對於'\n\\item '各國'\n\\item '經濟'\n\\item '有'\n\\item '莫大'\n\\item '衝擊'\n\\item '然而'\n\\item '台灣'\n\\item '實行'\n\\item '大規模'\n\\item '封鎖'\n\\item '行動'\n\\item '維持'\n\\item '正常'\n\\item '上班'\n\\item '上課'\n\\item '各種'\n\\item '經濟'\n\\item '活動'\n\\item '至今'\n\\item '無'\n\\item '⼤'\n\\item '規模'\n\\item '疫情'\n\\item '爆發'\n\\item '醫療體系'\n\\item '仍'\n\\item '能'\n\\item '正常'\n\\item '提供'\n\\item '民眾'\n\\item '服務'\n\\item '顯示'\n\\item '台灣'\n\\item '防疫'\n\\item '政策'\n\\item '正確'\n\\item '⽽'\n\\item '有效'\n\\item '獲得'\n\\item '世界'\n\\item '各國'\n\\item '⾼'\n\\item '度'\n\\item '肯定'\n\\item '國家'\n\\item '衛'\n\\item '⽣'\n\\item '研究院'\n\\item '群體'\n\\item '健康'\n\\item '科學'\n\\item '研究所'\n\\item '感染'\n\\item '症'\n\\item '疫苗'\n\\item '研究所'\n\\item '合作'\n\\item '利'\n\\item '⽤'\n\\item '真實'\n\\item '數據'\n\\item '數學模型'\n\\item '證實'\n\\item '良好'\n\\item '邊境'\n\\item '管控'\n\\item '詳盡'\n\\item '疫情'\n\\item '調查'\n\\item '確實'\n\\item '隔離'\n\\item '檢疫'\n\\item '以及'\n\\item '民眾遵'\n\\item '⾏'\n\\item '防疫措施'\n\\item '為'\n\\item '台灣'\n\\item '抗疫'\n\\item '四大'\n\\item '支柱'\n\\item '台灣'\n\\item '對'\n\\item '世界'\n\\item '各國'\n\\item '提供'\n\\item '各項'\n\\item '協助'\n\\item '經驗'\n\\item '分享'\n\\item '期望'\n\\item '幫助'\n\\item '各國'\n\\item '盡快'\n\\item '從'\n\\item '疫情'\n\\item '陰霾'\n\\item '中'\n\\item '走出'\n\\end{enumerate*}\n",
            "text/markdown": "1. '嚴重'\n2. '特殊'\n3. '傳染性肺炎'\n4. '疫情'\n5. '持續'\n6. '全球'\n7. '蔓延'\n8. '已'\n9. '造成'\n10. '三千多萬'\n11. '⼈'\n12. '感染'\n13. '死亡'\n14. '⼈'\n15. '數'\n16. '破'\n17. '百萬'\n18. '人'\n19. '歐美'\n20. '醫療體系'\n21. '幾近'\n22. '崩潰'\n23. '各種'\n24. '行動'\n25. '限制'\n26. '對於'\n27. '各國'\n28. '經濟'\n29. '有'\n30. '莫大'\n31. '衝擊'\n32. '然而'\n33. '台灣'\n34. '實行'\n35. '大規模'\n36. '封鎖'\n37. '行動'\n38. '維持'\n39. '正常'\n40. '上班'\n41. '上課'\n42. '各種'\n43. '經濟'\n44. '活動'\n45. '至今'\n46. '無'\n47. '⼤'\n48. '規模'\n49. '疫情'\n50. '爆發'\n51. '醫療體系'\n52. '仍'\n53. '能'\n54. '正常'\n55. '提供'\n56. '民眾'\n57. '服務'\n58. '顯示'\n59. '台灣'\n60. '防疫'\n61. '政策'\n62. '正確'\n63. '⽽'\n64. '有效'\n65. '獲得'\n66. '世界'\n67. '各國'\n68. '⾼'\n69. '度'\n70. '肯定'\n71. '國家'\n72. '衛'\n73. '⽣'\n74. '研究院'\n75. '群體'\n76. '健康'\n77. '科學'\n78. '研究所'\n79. '感染'\n80. '症'\n81. '疫苗'\n82. '研究所'\n83. '合作'\n84. '利'\n85. '⽤'\n86. '真實'\n87. '數據'\n88. '數學模型'\n89. '證實'\n90. '良好'\n91. '邊境'\n92. '管控'\n93. '詳盡'\n94. '疫情'\n95. '調查'\n96. '確實'\n97. '隔離'\n98. '檢疫'\n99. '以及'\n100. '民眾遵'\n101. '⾏'\n102. '防疫措施'\n103. '為'\n104. '台灣'\n105. '抗疫'\n106. '四大'\n107. '支柱'\n108. '台灣'\n109. '對'\n110. '世界'\n111. '各國'\n112. '提供'\n113. '各項'\n114. '協助'\n115. '經驗'\n116. '分享'\n117. '期望'\n118. '幫助'\n119. '各國'\n120. '盡快'\n121. '從'\n122. '疫情'\n123. '陰霾'\n124. '中'\n125. '走出'\n\n\n",
            "text/html": [
              "<style>\n",
              ".list-inline {list-style: none; margin:0; padding: 0}\n",
              ".list-inline>li {display: inline-block}\n",
              ".list-inline>li:not(:last-child)::after {content: \"\\00b7\"; padding: 0 .5ex}\n",
              "</style>\n",
              "<ol class=list-inline><li>'嚴重'</li><li>'特殊'</li><li>'傳染性肺炎'</li><li>'疫情'</li><li>'持續'</li><li>'全球'</li><li>'蔓延'</li><li>'已'</li><li>'造成'</li><li>'三千多萬'</li><li>'⼈'</li><li>'感染'</li><li>'死亡'</li><li>'⼈'</li><li>'數'</li><li>'破'</li><li>'百萬'</li><li>'人'</li><li>'歐美'</li><li>'醫療體系'</li><li>'幾近'</li><li>'崩潰'</li><li>'各種'</li><li>'行動'</li><li>'限制'</li><li>'對於'</li><li>'各國'</li><li>'經濟'</li><li>'有'</li><li>'莫大'</li><li>'衝擊'</li><li>'然而'</li><li>'台灣'</li><li>'實行'</li><li>'大規模'</li><li>'封鎖'</li><li>'行動'</li><li>'維持'</li><li>'正常'</li><li>'上班'</li><li>'上課'</li><li>'各種'</li><li>'經濟'</li><li>'活動'</li><li>'至今'</li><li>'無'</li><li>'⼤'</li><li>'規模'</li><li>'疫情'</li><li>'爆發'</li><li>'醫療體系'</li><li>'仍'</li><li>'能'</li><li>'正常'</li><li>'提供'</li><li>'民眾'</li><li>'服務'</li><li>'顯示'</li><li>'台灣'</li><li>'防疫'</li><li>'政策'</li><li>'正確'</li><li>'⽽'</li><li>'有效'</li><li>'獲得'</li><li>'世界'</li><li>'各國'</li><li>'⾼'</li><li>'度'</li><li>'肯定'</li><li>'國家'</li><li>'衛'</li><li>'⽣'</li><li>'研究院'</li><li>'群體'</li><li>'健康'</li><li>'科學'</li><li>'研究所'</li><li>'感染'</li><li>'症'</li><li>'疫苗'</li><li>'研究所'</li><li>'合作'</li><li>'利'</li><li>'⽤'</li><li>'真實'</li><li>'數據'</li><li>'數學模型'</li><li>'證實'</li><li>'良好'</li><li>'邊境'</li><li>'管控'</li><li>'詳盡'</li><li>'疫情'</li><li>'調查'</li><li>'確實'</li><li>'隔離'</li><li>'檢疫'</li><li>'以及'</li><li>'民眾遵'</li><li>'⾏'</li><li>'防疫措施'</li><li>'為'</li><li>'台灣'</li><li>'抗疫'</li><li>'四大'</li><li>'支柱'</li><li>'台灣'</li><li>'對'</li><li>'世界'</li><li>'各國'</li><li>'提供'</li><li>'各項'</li><li>'協助'</li><li>'經驗'</li><li>'分享'</li><li>'期望'</li><li>'幫助'</li><li>'各國'</li><li>'盡快'</li><li>'從'</li><li>'疫情'</li><li>'陰霾'</li><li>'中'</li><li>'走出'</li></ol>\n"
            ]
          },
          "metadata": {
            "tags": []
          }
        }
      ]
    },
    {
      "cell_type": "code",
      "metadata": {
        "colab": {
          "base_uri": "https://localhost:8080/",
          "height": 283
        },
        "id": "LL2nnsMcR349",
        "outputId": "08ad817a-0fac-42b7-9154-e9c088280cdb"
      },
      "source": [
        "txt_freq <- freq(seg_words)\n",
        "txt_freq <- arrange(txt_freq, desc(freq))\n",
        "head(txt_freq)"
      ],
      "execution_count": 78,
      "outputs": [
        {
          "output_type": "display_data",
          "data": {
            "text/plain": [
              "  char freq\n",
              "1 各國 4   \n",
              "2 疫情 4   \n",
              "3 台灣 4   \n",
              "4 行動 2   \n",
              "5 各種 2   \n",
              "6 經濟 2   "
            ],
            "text/latex": "A data.frame: 6 × 2\n\\begin{tabular}{r|ll}\n  & char & freq\\\\\n  & <chr> & <dbl>\\\\\n\\hline\n\t1 & 各國 & 4\\\\\n\t2 & 疫情 & 4\\\\\n\t3 & 台灣 & 4\\\\\n\t4 & 行動 & 2\\\\\n\t5 & 各種 & 2\\\\\n\t6 & 經濟 & 2\\\\\n\\end{tabular}\n",
            "text/markdown": "\nA data.frame: 6 × 2\n\n| <!--/--> | char &lt;chr&gt; | freq &lt;dbl&gt; |\n|---|---|---|\n| 1 | 各國 | 4 |\n| 2 | 疫情 | 4 |\n| 3 | 台灣 | 4 |\n| 4 | 行動 | 2 |\n| 5 | 各種 | 2 |\n| 6 | 經濟 | 2 |\n\n",
            "text/html": [
              "<table class=\"dataframe\">\n",
              "<caption>A data.frame: 6 × 2</caption>\n",
              "<thead>\n",
              "\t<tr><th></th><th scope=col>char</th><th scope=col>freq</th></tr>\n",
              "\t<tr><th></th><th scope=col>&lt;chr&gt;</th><th scope=col>&lt;dbl&gt;</th></tr>\n",
              "</thead>\n",
              "<tbody>\n",
              "\t<tr><th scope=row>1</th><td>各國</td><td>4</td></tr>\n",
              "\t<tr><th scope=row>2</th><td>疫情</td><td>4</td></tr>\n",
              "\t<tr><th scope=row>3</th><td>台灣</td><td>4</td></tr>\n",
              "\t<tr><th scope=row>4</th><td>行動</td><td>2</td></tr>\n",
              "\t<tr><th scope=row>5</th><td>各種</td><td>2</td></tr>\n",
              "\t<tr><th scope=row>6</th><td>經濟</td><td>2</td></tr>\n",
              "</tbody>\n",
              "</table>\n"
            ]
          },
          "metadata": {
            "tags": []
          }
        }
      ]
    },
    {
      "cell_type": "code",
      "metadata": {
        "colab": {
          "base_uri": "https://localhost:8080/",
          "height": 1000
        },
        "id": "Wk4aWdJoSL2r",
        "outputId": "856c4523-aa1d-4471-efc6-ef22bdbe88c1"
      },
      "source": [
        "par(family=(\"Microsoft YaHei\"))\n",
        "# 文字雲(pkg: wordcloud)\n",
        "wordcloud(txt_freq$char, txt_freq$freq, min.freq = 2, random.order = F,\n",
        "ordered.colors = F, colors = rainbow(nrow(txt_freq)))"
      ],
      "execution_count": 79,
      "outputs": [
        {
          "output_type": "stream",
          "text": [
            "Warning message in strwidth(words[i], cex = size[i], ...):\n",
            "“font family 'Microsoft YaHei' not found, will use 'wqy-microhei' instead”\n",
            "Warning message in strheight(words[i], cex = size[i], ...):\n",
            "“font family 'Microsoft YaHei' not found, will use 'sans' instead”\n",
            "Warning message in text.default(x1, y1, words[i], cex = size[i], offset = 0, srt = rotWord * :\n",
            "“font family 'Microsoft YaHei' not found, will use 'wqy-microhei' instead”\n",
            "Warning message in text.default(x1, y1, words[i], cex = size[i], offset = 0, srt = rotWord * :\n",
            "“font family 'Microsoft YaHei' not found, will use 'wqy-microhei' instead”\n",
            "Warning message in text.default(x1, y1, words[i], cex = size[i], offset = 0, srt = rotWord * :\n",
            "“font family 'Microsoft YaHei' not found, will use 'wqy-microhei' instead”\n",
            "Warning message in text.default(x1, y1, words[i], cex = size[i], offset = 0, srt = rotWord * :\n",
            "“font family 'Microsoft YaHei' not found, will use 'wqy-microhei' instead”\n",
            "Warning message in strwidth(words[i], cex = size[i], ...):\n",
            "“font family 'Microsoft YaHei' not found, will use 'wqy-microhei' instead”\n",
            "Warning message in text.default(x1, y1, words[i], cex = size[i], offset = 0, srt = rotWord * :\n",
            "“font family 'Microsoft YaHei' not found, will use 'wqy-microhei' instead”\n",
            "Warning message in text.default(x1, y1, words[i], cex = size[i], offset = 0, srt = rotWord * :\n",
            "“font family 'Microsoft YaHei' not found, will use 'wqy-microhei' instead”\n",
            "Warning message in text.default(x1, y1, words[i], cex = size[i], offset = 0, srt = rotWord * :\n",
            "“font family 'Microsoft YaHei' not found, will use 'wqy-microhei' instead”\n",
            "Warning message in text.default(x1, y1, words[i], cex = size[i], offset = 0, srt = rotWord * :\n",
            "“font family 'Microsoft YaHei' not found, will use 'wqy-microhei' instead”\n",
            "Warning message in strwidth(words[i], cex = size[i], ...):\n",
            "“font family 'Microsoft YaHei' not found, will use 'wqy-microhei' instead”\n",
            "Warning message in text.default(x1, y1, words[i], cex = size[i], offset = 0, srt = rotWord * :\n",
            "“font family 'Microsoft YaHei' not found, will use 'wqy-microhei' instead”\n",
            "Warning message in text.default(x1, y1, words[i], cex = size[i], offset = 0, srt = rotWord * :\n",
            "“font family 'Microsoft YaHei' not found, will use 'wqy-microhei' instead”\n",
            "Warning message in text.default(x1, y1, words[i], cex = size[i], offset = 0, srt = rotWord * :\n",
            "“font family 'Microsoft YaHei' not found, will use 'wqy-microhei' instead”\n",
            "Warning message in text.default(x1, y1, words[i], cex = size[i], offset = 0, srt = rotWord * :\n",
            "“font family 'Microsoft YaHei' not found, will use 'wqy-microhei' instead”\n",
            "Warning message in strwidth(words[i], cex = size[i], ...):\n",
            "“font family 'Microsoft YaHei' not found, will use 'wqy-microhei' instead”\n",
            "Warning message in strheight(words[i], cex = size[i], ...):\n",
            "“font family 'Microsoft YaHei' not found, will use 'sans' instead”\n",
            "Warning message in text.default(x1, y1, words[i], cex = size[i], offset = 0, srt = rotWord * :\n",
            "“font family 'Microsoft YaHei' not found, will use 'wqy-microhei' instead”\n",
            "Warning message in text.default(x1, y1, words[i], cex = size[i], offset = 0, srt = rotWord * :\n",
            "“font family 'Microsoft YaHei' not found, will use 'wqy-microhei' instead”\n",
            "Warning message in text.default(x1, y1, words[i], cex = size[i], offset = 0, srt = rotWord * :\n",
            "“font family 'Microsoft YaHei' not found, will use 'wqy-microhei' instead”\n",
            "Warning message in text.default(x1, y1, words[i], cex = size[i], offset = 0, srt = rotWord * :\n",
            "“font family 'Microsoft YaHei' not found, will use 'wqy-microhei' instead”\n",
            "Warning message in strwidth(words[i], cex = size[i], ...):\n",
            "“font family 'Microsoft YaHei' not found, will use 'wqy-microhei' instead”\n",
            "Warning message in text.default(x1, y1, words[i], cex = size[i], offset = 0, srt = rotWord * :\n",
            "“font family 'Microsoft YaHei' not found, will use 'wqy-microhei' instead”\n",
            "Warning message in text.default(x1, y1, words[i], cex = size[i], offset = 0, srt = rotWord * :\n",
            "“font family 'Microsoft YaHei' not found, will use 'wqy-microhei' instead”\n",
            "Warning message in text.default(x1, y1, words[i], cex = size[i], offset = 0, srt = rotWord * :\n",
            "“font family 'Microsoft YaHei' not found, will use 'wqy-microhei' instead”\n",
            "Warning message in text.default(x1, y1, words[i], cex = size[i], offset = 0, srt = rotWord * :\n",
            "“font family 'Microsoft YaHei' not found, will use 'wqy-microhei' instead”\n",
            "Warning message in strwidth(words[i], cex = size[i], ...):\n",
            "“font family 'Microsoft YaHei' not found, will use 'wqy-microhei' instead”\n",
            "Warning message in text.default(x1, y1, words[i], cex = size[i], offset = 0, srt = rotWord * :\n",
            "“font family 'Microsoft YaHei' not found, will use 'wqy-microhei' instead”\n",
            "Warning message in text.default(x1, y1, words[i], cex = size[i], offset = 0, srt = rotWord * :\n",
            "“font family 'Microsoft YaHei' not found, will use 'wqy-microhei' instead”\n",
            "Warning message in text.default(x1, y1, words[i], cex = size[i], offset = 0, srt = rotWord * :\n",
            "“font family 'Microsoft YaHei' not found, will use 'wqy-microhei' instead”\n",
            "Warning message in text.default(x1, y1, words[i], cex = size[i], offset = 0, srt = rotWord * :\n",
            "“font family 'Microsoft YaHei' not found, will use 'wqy-microhei' instead”\n",
            "Warning message in strwidth(words[i], cex = size[i], ...):\n",
            "“font family 'Microsoft YaHei' not found, will use 'wqy-microhei' instead”\n",
            "Warning message in text.default(x1, y1, words[i], cex = size[i], offset = 0, srt = rotWord * :\n",
            "“font family 'Microsoft YaHei' not found, will use 'wqy-microhei' instead”\n",
            "Warning message in text.default(x1, y1, words[i], cex = size[i], offset = 0, srt = rotWord * :\n",
            "“font family 'Microsoft YaHei' not found, will use 'wqy-microhei' instead”\n",
            "Warning message in text.default(x1, y1, words[i], cex = size[i], offset = 0, srt = rotWord * :\n",
            "“font family 'Microsoft YaHei' not found, will use 'wqy-microhei' instead”\n",
            "Warning message in text.default(x1, y1, words[i], cex = size[i], offset = 0, srt = rotWord * :\n",
            "“font family 'Microsoft YaHei' not found, will use 'wqy-microhei' instead”\n",
            "Warning message in strwidth(words[i], cex = size[i], ...):\n",
            "“font family 'Microsoft YaHei' not found, will use 'wqy-microhei' instead”\n",
            "Warning message in text.default(x1, y1, words[i], cex = size[i], offset = 0, srt = rotWord * :\n",
            "“font family 'Microsoft YaHei' not found, will use 'wqy-microhei' instead”\n",
            "Warning message in text.default(x1, y1, words[i], cex = size[i], offset = 0, srt = rotWord * :\n",
            "“font family 'Microsoft YaHei' not found, will use 'wqy-microhei' instead”\n",
            "Warning message in text.default(x1, y1, words[i], cex = size[i], offset = 0, srt = rotWord * :\n",
            "“font family 'Microsoft YaHei' not found, will use 'wqy-microhei' instead”\n",
            "Warning message in text.default(x1, y1, words[i], cex = size[i], offset = 0, srt = rotWord * :\n",
            "“font family 'Microsoft YaHei' not found, will use 'wqy-microhei' instead”\n",
            "Warning message in strwidth(words[i], cex = size[i], ...):\n",
            "“font family 'Microsoft YaHei' not found, will use 'wqy-microhei' instead”\n",
            "Warning message in text.default(x1, y1, words[i], cex = size[i], offset = 0, srt = rotWord * :\n",
            "“font family 'Microsoft YaHei' not found, will use 'wqy-microhei' instead”\n",
            "Warning message in text.default(x1, y1, words[i], cex = size[i], offset = 0, srt = rotWord * :\n",
            "“font family 'Microsoft YaHei' not found, will use 'wqy-microhei' instead”\n",
            "Warning message in text.default(x1, y1, words[i], cex = size[i], offset = 0, srt = rotWord * :\n",
            "“font family 'Microsoft YaHei' not found, will use 'wqy-microhei' instead”\n",
            "Warning message in text.default(x1, y1, words[i], cex = size[i], offset = 0, srt = rotWord * :\n",
            "“font family 'Microsoft YaHei' not found, will use 'wqy-microhei' instead”\n",
            "Warning message in strwidth(words[i], cex = size[i], ...):\n",
            "“font family 'Microsoft YaHei' not found, will use 'wqy-microhei' instead”\n",
            "Warning message in text.default(x1, y1, words[i], cex = size[i], offset = 0, srt = rotWord * :\n",
            "“font family 'Microsoft YaHei' not found, will use 'wqy-microhei' instead”\n",
            "Warning message in text.default(x1, y1, words[i], cex = size[i], offset = 0, srt = rotWord * :\n",
            "“font family 'Microsoft YaHei' not found, will use 'wqy-microhei' instead”\n",
            "Warning message in text.default(x1, y1, words[i], cex = size[i], offset = 0, srt = rotWord * :\n",
            "“font family 'Microsoft YaHei' not found, will use 'wqy-microhei' instead”\n",
            "Warning message in text.default(x1, y1, words[i], cex = size[i], offset = 0, srt = rotWord * :\n",
            "“font family 'Microsoft YaHei' not found, will use 'wqy-microhei' instead”\n",
            "Warning message in text.default(x1, y1, words[i], cex = size[i], offset = 0, srt = rotWord * :\n",
            "“font family 'Microsoft YaHei' not found, will use 'wqy-microhei' instead”\n",
            "Warning message in strwidth(words[i], cex = size[i], ...):\n",
            "“font family 'Microsoft YaHei' not found, will use 'wqy-microhei' instead”\n",
            "Warning message in text.default(x1, y1, words[i], cex = size[i], offset = 0, srt = rotWord * :\n",
            "“font family 'Microsoft YaHei' not found, will use 'wqy-microhei' instead”\n",
            "Warning message in text.default(x1, y1, words[i], cex = size[i], offset = 0, srt = rotWord * :\n",
            "“font family 'Microsoft YaHei' not found, will use 'wqy-microhei' instead”\n",
            "Warning message in text.default(x1, y1, words[i], cex = size[i], offset = 0, srt = rotWord * :\n",
            "“font family 'Microsoft YaHei' not found, will use 'wqy-microhei' instead”\n",
            "Warning message in strwidth(words[i], cex = size[i], ...):\n",
            "“font family 'Microsoft YaHei' not found, will use 'wqy-microhei' instead”\n",
            "Warning message in text.default(x1, y1, words[i], cex = size[i], offset = 0, srt = rotWord * :\n",
            "“font family 'Microsoft YaHei' not found, will use 'wqy-microhei' instead”\n",
            "Warning message in text.default(x1, y1, words[i], cex = size[i], offset = 0, srt = rotWord * :\n",
            "“font family 'Microsoft YaHei' not found, will use 'wqy-microhei' instead”\n",
            "Warning message in text.default(x1, y1, words[i], cex = size[i], offset = 0, srt = rotWord * :\n",
            "“font family 'Microsoft YaHei' not found, will use 'wqy-microhei' instead”\n",
            "Warning message in text.default(x1, y1, words[i], cex = size[i], offset = 0, srt = rotWord * :\n",
            "“font family 'Microsoft YaHei' not found, will use 'wqy-microhei' instead”\n",
            "Warning message in strwidth(words[i], cex = size[i], ...):\n",
            "“font family 'Microsoft YaHei' not found, will use 'wqy-microhei' instead”\n",
            "Warning message in text.default(x1, y1, words[i], cex = size[i], offset = 0, srt = rotWord * :\n",
            "“font family 'Microsoft YaHei' not found, will use 'wqy-microhei' instead”\n",
            "Warning message in text.default(x1, y1, words[i], cex = size[i], offset = 0, srt = rotWord * :\n",
            "“font family 'Microsoft YaHei' not found, will use 'wqy-microhei' instead”\n",
            "Warning message in text.default(x1, y1, words[i], cex = size[i], offset = 0, srt = rotWord * :\n",
            "“font family 'Microsoft YaHei' not found, will use 'wqy-microhei' instead”\n",
            "Warning message in text.default(x1, y1, words[i], cex = size[i], offset = 0, srt = rotWord * :\n",
            "“font family 'Microsoft YaHei' not found, will use 'wqy-microhei' instead”\n",
            "Warning message in text.default(x1, y1, words[i], cex = size[i], offset = 0, srt = rotWord * :\n",
            "“font family 'Microsoft YaHei' not found, will use 'wqy-microhei' instead”\n",
            "Warning message in text.default(x1, y1, words[i], cex = size[i], offset = 0, srt = rotWord * :\n",
            "“font family 'Microsoft YaHei' not found, will use 'wqy-microhei' instead”\n"
          ],
          "name": "stderr"
        },
        {
          "output_type": "display_data",
          "data": {
            "image/png": "[encoded data removed]",
            "text/plain": [
              "plot without title"
            ]
          },
          "metadata": {
            "tags": [],
            "image/png": {
              "width": 420,
              "height": 420
            }
          }
        }
      ]
    },
    {
      "cell_type": "code",
      "metadata": {
        "colab": {
          "base_uri": "https://localhost:8080/"
        },
        "id": "3vIzvTaPXPSL",
        "outputId": "294ebffa-b3c6-4fda-fb34-f4fa2892f754"
      },
      "source": [
        "install.packages(\"showtext\")"
      ],
      "execution_count": 80,
      "outputs": [
        {
          "output_type": "stream",
          "text": [
            "Installing package into ‘/usr/local/lib/R/site-library’\n",
            "(as ‘lib’ is unspecified)\n",
            "\n"
          ],
          "name": "stderr"
        }
      ]
    },
    {
      "cell_type": "code",
      "metadata": {
        "id": "mUlnqI1EXZ7D"
      },
      "source": [
        "library(showtext)"
      ],
      "execution_count": 81,
      "outputs": []
    },
    {
      "cell_type": "code",
      "metadata": {
        "colab": {
          "base_uri": "https://localhost:8080/"
        },
        "id": "nbHgCRfOYAVr",
        "outputId": "ed077235-ff05-4947-f6e9-984a8080f5dc"
      },
      "source": [
        "showtext.auto(enable = TRUE)"
      ],
      "execution_count": 62,
      "outputs": [
        {
          "output_type": "stream",
          "text": [
            "'showtext.auto()' is now renamed to 'showtext_auto()'\n",
            "The old version still works, but consider using the new function in future code\n",
            "\n"
          ],
          "name": "stderr"
        }
      ]
    },
    {
      "cell_type": "markdown",
      "metadata": {
        "id": "qZ0_sdoTOGGW"
      },
      "source": [
        ""
      ]
    }
  ]
}